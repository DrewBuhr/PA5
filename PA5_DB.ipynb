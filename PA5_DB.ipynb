{
 "cells": [
  {
   "cell_type": "markdown",
   "id": "126864da",
   "metadata": {},
   "source": [
    "### 1a"
   ]
  },
  {
   "cell_type": "code",
   "execution_count": 2,
   "id": "8f973428",
   "metadata": {},
   "outputs": [],
   "source": [
    "language_translator={'hello': 'hola', 'water': 'agua', 'balls':'pelotas', 'house': 'casa', 'restroom': 'bano', 'head': 'cabeza', 'shoulder': 'hombro', 'knee': 'rodilla', 'cheese': 'queso', 'taco': 'taco', 'quesadilla': 'quesadilla', 'chair': 'silla', 'hat':'sombrero', 'college': 'universidad', 'shirt': 'camisa', 'pants': 'pantalones', 'shoes': 'zapatoes', 'computer': 'computadora', 'pencil': 'lapiz', 'paper': 'papel'}"
   ]
  },
  {
   "cell_type": "code",
   "execution_count": 25,
   "id": "c7876e90",
   "metadata": {},
   "outputs": [
    {
     "name": "stdout",
     "output_type": "stream",
     "text": [
      "Enter a word to translate from English to Irish (enter 0 to stop): water\n",
      "The Spanish word for water is agua.\n",
      "Enter a word to translate from English to Irish (enter 0 to stop): couch\n",
      "The Spanish word for couch is not in the dictionary.\n",
      "Enter a word to translate from English to Irish (enter 0 to stop): 0\n"
     ]
    }
   ],
   "source": [
    "while word !=0:\n",
    "    word=input('Enter a word to translate from English to Irish (enter 0 to stop): ')\n",
    "    if word=='0':\n",
    "        break\n",
    "    else:\n",
    "        if word in language_translator.keys():\n",
    "            print(f'The Spanish word for {word} is {language_translator[word]}.')\n",
    "        if word not in language_translator.keys():\n",
    "            print(f'The Spanish word for {word} is not in the dictionary.')"
   ]
  },
  {
   "cell_type": "markdown",
   "id": "4a009975",
   "metadata": {},
   "source": [
    "### 1b"
   ]
  },
  {
   "cell_type": "code",
   "execution_count": 68,
   "id": "20e7a599",
   "metadata": {},
   "outputs": [
    {
     "name": "stdout",
     "output_type": "stream",
     "text": [
      "{1: 28.333333333333336, 2: 27.222222222222225, 3: 28.333333333333336, 4: 27.77777777777778, 5: 26.666666666666668, 6: 30.0, 7: 30.0, 8: 28.333333333333336, 9: 26.666666666666668, 10: 26.666666666666668, 11: 28.88888888888889, 12: 30.0, 13: 31.111111111111114, 14: 30.555555555555557, 15: 27.77777777777778, 16: 28.88888888888889, 17: 31.111111111111114, 18: 31.666666666666668, 19: 30.555555555555557, 20: 23.88888888888889, 21: 25.555555555555557, 22: 21.666666666666668, 23: 20.555555555555557, 24: 23.88888888888889, 25: 22.77777777777778, 26: 25.0, 27: 28.88888888888889, 28: 29.444444444444446, 29: 28.88888888888889, 30: 28.88888888888889}\n"
     ]
    }
   ],
   "source": [
    "temp={1:83, 2:81, 3:83, 4:82, 5:80, 6:86, 7:86, 8:83, 9:80, 10:80, 11:84, 12:86, 13:88, 14:87, 15:82, 16:84, 17:88, 18:89, 19:87, 20:75, 21:78, 22:71, 23:69, 24:75, 25:73, 26:77, 27:84, 28:85, 29:84, 30:84}\n",
    "for d in temp.keys():\n",
    "    temp[d]=(temp[d]-32)*(5/9)\n",
    "print(temp)"
   ]
  },
  {
   "cell_type": "code",
   "execution_count": 69,
   "id": "4ed09687",
   "metadata": {},
   "outputs": [
    {
     "name": "stdout",
     "output_type": "stream",
     "text": [
      "20.555555555555557 31.111111111111114\n"
     ]
    }
   ],
   "source": [
    "list=sorted(temp.values())\n",
    "print(list[0],\n",
    "     list[-2])"
   ]
  },
  {
   "cell_type": "code",
   "execution_count": 70,
   "id": "a92f8002",
   "metadata": {
    "scrolled": true
   },
   "outputs": [
    {
     "name": "stdout",
     "output_type": "stream",
     "text": [
      "23\n"
     ]
    }
   ],
   "source": [
    "for day in temp:\n",
    "    if temp[day]==list[0]:\n",
    "        print(day)"
   ]
  },
  {
   "cell_type": "code",
   "execution_count": 71,
   "id": "b527defb",
   "metadata": {},
   "outputs": [
    {
     "name": "stdout",
     "output_type": "stream",
     "text": [
      "13\n",
      "17\n"
     ]
    }
   ],
   "source": [
    "for day2 in temp:\n",
    "    if temp[day2]==list[-2]:\n",
    "        print(day2)"
   ]
  },
  {
   "cell_type": "markdown",
   "id": "b9afd4d5",
   "metadata": {},
   "source": [
    "### 1c"
   ]
  },
  {
   "cell_type": "markdown",
   "id": "40d12b63",
   "metadata": {},
   "source": [
    "Symmetric Difference will return a set with items that are unique/not in both sets."
   ]
  },
  {
   "cell_type": "code",
   "execution_count": 72,
   "id": "769f6393",
   "metadata": {},
   "outputs": [
    {
     "data": {
      "text/plain": [
       "{1, 2, 5, 6}"
      ]
     },
     "execution_count": 72,
     "metadata": {},
     "output_type": "execute_result"
    }
   ],
   "source": [
    "SetA={1,2,3,4}\n",
    "SetB={3,4,5,6}\n",
    "SetA^SetB"
   ]
  },
  {
   "cell_type": "markdown",
   "id": "44b38862",
   "metadata": {},
   "source": [
    ".isdisjoint() returns true or false depending on if the sets are disjoint/don't have any elements in common."
   ]
  },
  {
   "cell_type": "code",
   "execution_count": 74,
   "id": "8b55e859",
   "metadata": {},
   "outputs": [
    {
     "name": "stdout",
     "output_type": "stream",
     "text": [
      "True\n",
      "False\n"
     ]
    }
   ],
   "source": [
    "SetC={1,2,3,4}\n",
    "SetD={5,6,7}\n",
    "print(SetC.isdisjoint(SetD))\n",
    "print(SetA.isdisjoint(SetB))"
   ]
  },
  {
   "cell_type": "markdown",
   "id": "5f2a8798",
   "metadata": {},
   "source": [
    "Intersection Update will update the first set to only have the elements that are in both sets. It will remove the unique elements from the first set but the second set will remain the same."
   ]
  },
  {
   "cell_type": "code",
   "execution_count": 76,
   "id": "d4fbf578",
   "metadata": {},
   "outputs": [
    {
     "name": "stdout",
     "output_type": "stream",
     "text": [
      "{3, 4}\n",
      "{3, 4, 5, 6}\n"
     ]
    }
   ],
   "source": [
    "SetE={1,2,3,4}\n",
    "SetF={3,4,5,6}\n",
    "SetE&=SetF\n",
    "print(SetE)\n",
    "print(SetF)"
   ]
  },
  {
   "cell_type": "markdown",
   "id": "fa00e84e",
   "metadata": {},
   "source": [
    "Symmetric Difference (^=) will update the first set to be a set with only elements that are unique to both sets. The second set will remain as is."
   ]
  },
  {
   "cell_type": "code",
   "execution_count": 78,
   "id": "3eea6f14",
   "metadata": {},
   "outputs": [
    {
     "name": "stdout",
     "output_type": "stream",
     "text": [
      "{1, 2, 5, 6}\n",
      "{3, 4, 5, 6}\n"
     ]
    }
   ],
   "source": [
    "SetG={1,2,3,4}\n",
    "SetH={3,4,5,6}\n",
    "SetG^=SetH\n",
    "print(SetG)\n",
    "print(SetH)"
   ]
  },
  {
   "cell_type": "markdown",
   "id": "c78c1e42",
   "metadata": {},
   "source": [
    "remove(), discard(), and pop() are all ways to remove elements from sets. They all will permanately remove elements from the set. Remove() and discard() act the same in the fact they return the new set without the elements wanted to be removed, however remove() will return an error if the element is not in the set prior to wanting to remove it whereas discard() will not. Pop() works randomly in a set since a set is unordered, so it will return the element removed from the set. "
   ]
  },
  {
   "cell_type": "code",
   "execution_count": 79,
   "id": "11008464",
   "metadata": {},
   "outputs": [
    {
     "data": {
      "text/plain": [
       "{1, 3, 4, 5, 6}"
      ]
     },
     "execution_count": 79,
     "metadata": {},
     "output_type": "execute_result"
    }
   ],
   "source": [
    "SetA={1,2,3,4,5,6}\n",
    "SetA.remove(2)\n",
    "SetA"
   ]
  },
  {
   "cell_type": "code",
   "execution_count": 80,
   "id": "1e70f148",
   "metadata": {},
   "outputs": [
    {
     "ename": "KeyError",
     "evalue": "10",
     "output_type": "error",
     "traceback": [
      "\u001b[1;31m---------------------------------------------------------------------------\u001b[0m",
      "\u001b[1;31mKeyError\u001b[0m                                  Traceback (most recent call last)",
      "\u001b[1;32m<ipython-input-80-6fdffad6b012>\u001b[0m in \u001b[0;36m<module>\u001b[1;34m\u001b[0m\n\u001b[1;32m----> 1\u001b[1;33m \u001b[0mSetA\u001b[0m\u001b[1;33m.\u001b[0m\u001b[0mremove\u001b[0m\u001b[1;33m(\u001b[0m\u001b[1;36m10\u001b[0m\u001b[1;33m)\u001b[0m\u001b[1;33m\u001b[0m\u001b[1;33m\u001b[0m\u001b[0m\n\u001b[0m",
      "\u001b[1;31mKeyError\u001b[0m: 10"
     ]
    }
   ],
   "source": [
    "SetA.remove(10)"
   ]
  },
  {
   "cell_type": "code",
   "execution_count": 81,
   "id": "1a5a6469",
   "metadata": {},
   "outputs": [
    {
     "data": {
      "text/plain": [
       "{1, 3, 5, 6}"
      ]
     },
     "execution_count": 81,
     "metadata": {},
     "output_type": "execute_result"
    }
   ],
   "source": [
    "SetA.discard(4)\n",
    "SetA"
   ]
  },
  {
   "cell_type": "code",
   "execution_count": 84,
   "id": "17fd3615",
   "metadata": {},
   "outputs": [
    {
     "data": {
      "text/plain": [
       "{1, 3, 5, 6}"
      ]
     },
     "execution_count": 84,
     "metadata": {},
     "output_type": "execute_result"
    }
   ],
   "source": [
    "SetA.discard(10) #Notice no error message\n",
    "SetA"
   ]
  },
  {
   "cell_type": "code",
   "execution_count": 85,
   "id": "8872effc",
   "metadata": {},
   "outputs": [
    {
     "data": {
      "text/plain": [
       "1"
      ]
     },
     "execution_count": 85,
     "metadata": {},
     "output_type": "execute_result"
    }
   ],
   "source": [
    "SetA.pop()"
   ]
  },
  {
   "cell_type": "code",
   "execution_count": 86,
   "id": "191a530b",
   "metadata": {},
   "outputs": [
    {
     "data": {
      "text/plain": [
       "{3, 5, 6}"
      ]
     },
     "execution_count": 86,
     "metadata": {},
     "output_type": "execute_result"
    }
   ],
   "source": [
    "SetA"
   ]
  },
  {
   "cell_type": "markdown",
   "id": "b2c51c43",
   "metadata": {},
   "source": [
    "## PA5, Drew Buhr, CS-150-01"
   ]
  }
 ],
 "metadata": {
  "kernelspec": {
   "display_name": "Python 3",
   "language": "python",
   "name": "python3"
  },
  "language_info": {
   "codemirror_mode": {
    "name": "ipython",
    "version": 3
   },
   "file_extension": ".py",
   "mimetype": "text/x-python",
   "name": "python",
   "nbconvert_exporter": "python",
   "pygments_lexer": "ipython3",
   "version": "3.8.8"
  }
 },
 "nbformat": 4,
 "nbformat_minor": 5
}
